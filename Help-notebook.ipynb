{
 "cells": [
  {
   "cell_type": "code",
   "execution_count": 3,
   "metadata": {},
   "outputs": [],
   "source": [
    "import json\n",
    "import numpy as np\n",
    "import pandas as pd\n",
    "from IPython.display import display"
   ]
  },
  {
   "cell_type": "code",
   "execution_count": 4,
   "metadata": {},
   "outputs": [],
   "source": [
    "def load_rows(filepath, nrows = None):\n",
    "    with open(filepath) as json_file:\n",
    "        count = 0\n",
    "        objs = []\n",
    "        line = json_file.readline()\n",
    "        while (nrows is None or count < nrows) and line:\n",
    "            count += 1\n",
    "            obj = json.loads(line)\n",
    "            objs.append(obj)\n",
    "            line = json_file.readline()\n",
    "        return pd.DataFrame(objs)"
   ]
  },
  {
   "cell_type": "code",
   "execution_count": 5,
   "metadata": {},
   "outputs": [],
   "source": [
    "businesses = load_rows('data/business/yelp_academic_dataset_business.json')\n",
    "print('Business objects loaded. Count = {}'.format(businesses.shape[0]))\n",
    "reviews = load_rows('data/reviews/yelp_academic_dataset_reviews.json')"
   ]
  },
  {
   "cell_type": "code",
   "execution_count": 9,
   "metadata": {},
   "outputs": [
    {
     "name": "stdout",
     "output_type": "stream",
     "text": [
      "8021122\n",
      "Review objects loaded. Count = 8021122\n"
     ]
    }
   ],
   "source": [
    "!cat 'data/reviews/yelp_academic_dataset_reviews.json' | wc -l\n",
    "print('Review objects loaded. Count = {}'.format(reviews.shape[0]))"
   ]
  },
  {
   "cell_type": "code",
   "execution_count": 10,
   "metadata": {},
   "outputs": [],
   "source": [
    "cities_per_business = businesses[['business_id', 'city']]"
   ]
  },
  {
   "cell_type": "code",
   "execution_count": 11,
   "metadata": {},
   "outputs": [
    {
     "data": {
      "text/plain": [
       "1601801"
      ]
     },
     "execution_count": 11,
     "metadata": {},
     "output_type": "execute_result"
    }
   ],
   "source": [
    "funny_reviews = reviews[reviews['funny'] > 0][['review_id', 'business_id', 'funny']]\n",
    "len(funny_reviews)"
   ]
  },
  {
   "cell_type": "code",
   "execution_count": 12,
   "metadata": {},
   "outputs": [],
   "source": [
    "funny_reviews_with_cities = funny_reviews.set_index('business_id').join(cities_per_business.set_index('business_id'))"
   ]
  },
  {
   "cell_type": "code",
   "execution_count": 13,
   "metadata": {},
   "outputs": [],
   "source": [
    "top_10_funny_cities = funny_reviews_with_cities.groupby('city').size().reset_index(name='qty').sort_values(by='qty', ascending=False).head(10)"
   ]
  },
  {
   "cell_type": "code",
   "execution_count": 14,
   "metadata": {},
   "outputs": [
    {
     "data": {
      "text/html": [
       "<div>\n",
       "<style scoped>\n",
       "    .dataframe tbody tr th:only-of-type {\n",
       "        vertical-align: middle;\n",
       "    }\n",
       "\n",
       "    .dataframe tbody tr th {\n",
       "        vertical-align: top;\n",
       "    }\n",
       "\n",
       "    .dataframe thead th {\n",
       "        text-align: right;\n",
       "    }\n",
       "</style>\n",
       "<table border=\"1\" class=\"dataframe\">\n",
       "  <thead>\n",
       "    <tr style=\"text-align: right;\">\n",
       "      <th></th>\n",
       "      <th>city</th>\n",
       "      <th>qty</th>\n",
       "    </tr>\n",
       "  </thead>\n",
       "  <tbody>\n",
       "    <tr>\n",
       "      <th>396</th>\n",
       "      <td>Las Vegas</td>\n",
       "      <td>513206</td>\n",
       "    </tr>\n",
       "    <tr>\n",
       "      <th>687</th>\n",
       "      <td>Phoenix</td>\n",
       "      <td>184937</td>\n",
       "    </tr>\n",
       "    <tr>\n",
       "      <th>934</th>\n",
       "      <td>Toronto</td>\n",
       "      <td>112887</td>\n",
       "    </tr>\n",
       "    <tr>\n",
       "      <th>848</th>\n",
       "      <td>Scottsdale</td>\n",
       "      <td>92798</td>\n",
       "    </tr>\n",
       "    <tr>\n",
       "      <th>138</th>\n",
       "      <td>Charlotte</td>\n",
       "      <td>64070</td>\n",
       "    </tr>\n",
       "    <tr>\n",
       "      <th>925</th>\n",
       "      <td>Tempe</td>\n",
       "      <td>49241</td>\n",
       "    </tr>\n",
       "    <tr>\n",
       "      <th>322</th>\n",
       "      <td>Henderson</td>\n",
       "      <td>49042</td>\n",
       "    </tr>\n",
       "    <tr>\n",
       "      <th>703</th>\n",
       "      <td>Pittsburgh</td>\n",
       "      <td>46446</td>\n",
       "    </tr>\n",
       "    <tr>\n",
       "      <th>155</th>\n",
       "      <td>Cleveland</td>\n",
       "      <td>40974</td>\n",
       "    </tr>\n",
       "    <tr>\n",
       "      <th>496</th>\n",
       "      <td>Mesa</td>\n",
       "      <td>37819</td>\n",
       "    </tr>\n",
       "  </tbody>\n",
       "</table>\n",
       "</div>"
      ],
      "text/plain": [
       "           city     qty\n",
       "396   Las Vegas  513206\n",
       "687     Phoenix  184937\n",
       "934     Toronto  112887\n",
       "848  Scottsdale   92798\n",
       "138   Charlotte   64070\n",
       "925       Tempe   49241\n",
       "322   Henderson   49042\n",
       "703  Pittsburgh   46446\n",
       "155   Cleveland   40974\n",
       "496        Mesa   37819"
      ]
     },
     "execution_count": 14,
     "metadata": {},
     "output_type": "execute_result"
    }
   ],
   "source": [
    "top_10_funny_cities"
   ]
  },
  {
   "cell_type": "code",
   "execution_count": 15,
   "metadata": {},
   "outputs": [],
   "source": [
    "reviews_qty = reviews.groupby(['user_id']).size()\n",
    "reviews_qty_gt_50 = reviews_qty[reviews_qty >= 50]"
   ]
  },
  {
   "cell_type": "code",
   "execution_count": 17,
   "metadata": {},
   "outputs": [
    {
     "data": {
      "text/plain": [
       "15955"
      ]
     },
     "execution_count": 17,
     "metadata": {},
     "output_type": "execute_result"
    }
   ],
   "source": [
    "len(reviews_qty_gt_50)"
   ]
  },
  {
   "cell_type": "code",
   "execution_count": 18,
   "metadata": {},
   "outputs": [
    {
     "data": {
      "text/plain": [
       "day_of_week\n",
       "0    1183732\n",
       "1    1112199\n",
       "2    1124486\n",
       "3    1080564\n",
       "4    1090099\n",
       "5    1184179\n",
       "6    1245863\n",
       "dtype: int64"
      ]
     },
     "execution_count": 18,
     "metadata": {},
     "output_type": "execute_result"
    }
   ],
   "source": [
    "from datetime import datetime\n",
    "reviews_by_day_of_week = reviews\n",
    "reviews_by_day_of_week['day_of_week'] = reviews_by_day_of_week.date.apply(lambda x: datetime.strptime(x,'%Y-%m-%d %H:%M:%S').weekday())\n",
    "reviews_by_day_of_week.groupby('day_of_week').size()"
   ]
  },
  {
   "cell_type": "code",
   "execution_count": 19,
   "metadata": {},
   "outputs": [
    {
     "name": "stderr",
     "output_type": "stream",
     "text": [
      "/usr/lib/python3/dist-packages/ipykernel_launcher.py:2: FutureWarning: Sorting because non-concatenation axis is not aligned. A future version\n",
      "of pandas will change to not sort by default.\n",
      "\n",
      "To accept the future behavior, pass 'sort=False'.\n",
      "\n",
      "To retain the current behavior and silence the warning, pass 'sort=True'.\n",
      "\n",
      "  \n"
     ]
    },
    {
     "data": {
      "text/html": [
       "<div>\n",
       "<style scoped>\n",
       "    .dataframe tbody tr th:only-of-type {\n",
       "        vertical-align: middle;\n",
       "    }\n",
       "\n",
       "    .dataframe tbody tr th {\n",
       "        vertical-align: top;\n",
       "    }\n",
       "\n",
       "    .dataframe thead th {\n",
       "        text-align: right;\n",
       "    }\n",
       "</style>\n",
       "<table border=\"1\" class=\"dataframe\">\n",
       "  <thead>\n",
       "    <tr style=\"text-align: right;\">\n",
       "      <th></th>\n",
       "      <th>total_qty</th>\n",
       "      <th>starts_5_qty</th>\n",
       "    </tr>\n",
       "  </thead>\n",
       "  <tbody>\n",
       "    <tr>\n",
       "      <th>---1lKK3aKOuomHnwAkAow</th>\n",
       "      <td>131</td>\n",
       "      <td>75.0</td>\n",
       "    </tr>\n",
       "    <tr>\n",
       "      <th>---3o4ZsKYoBYBe7H6xG8A</th>\n",
       "      <td>1</td>\n",
       "      <td>1.0</td>\n",
       "    </tr>\n",
       "  </tbody>\n",
       "</table>\n",
       "</div>"
      ],
      "text/plain": [
       "                        total_qty  starts_5_qty\n",
       "---1lKK3aKOuomHnwAkAow        131          75.0\n",
       "---3o4ZsKYoBYBe7H6xG8A          1           1.0"
      ]
     },
     "metadata": {},
     "output_type": "display_data"
    },
    {
     "data": {
      "text/html": [
       "<div>\n",
       "<style scoped>\n",
       "    .dataframe tbody tr th:only-of-type {\n",
       "        vertical-align: middle;\n",
       "    }\n",
       "\n",
       "    .dataframe tbody tr th {\n",
       "        vertical-align: top;\n",
       "    }\n",
       "\n",
       "    .dataframe thead th {\n",
       "        text-align: right;\n",
       "    }\n",
       "</style>\n",
       "<table border=\"1\" class=\"dataframe\">\n",
       "  <thead>\n",
       "    <tr style=\"text-align: right;\">\n",
       "      <th></th>\n",
       "      <th>total_qty</th>\n",
       "      <th>starts_5_qty</th>\n",
       "    </tr>\n",
       "  </thead>\n",
       "  <tbody>\n",
       "    <tr>\n",
       "      <th>2-PD6df20ge-k9SPHmcxiw</th>\n",
       "      <td>54</td>\n",
       "      <td>54.0</td>\n",
       "    </tr>\n",
       "    <tr>\n",
       "      <th>2bC-dBYN48wrmN-j0Bv-Jw</th>\n",
       "      <td>59</td>\n",
       "      <td>59.0</td>\n",
       "    </tr>\n",
       "    <tr>\n",
       "      <th>8JwSmvviX2dEAgaPRZ70nQ</th>\n",
       "      <td>195</td>\n",
       "      <td>195.0</td>\n",
       "    </tr>\n",
       "    <tr>\n",
       "      <th>MTl8QNjnenumWaORnXhing</th>\n",
       "      <td>55</td>\n",
       "      <td>55.0</td>\n",
       "    </tr>\n",
       "    <tr>\n",
       "      <th>aGwONlR86ERk450Gp6Ih5A</th>\n",
       "      <td>55</td>\n",
       "      <td>55.0</td>\n",
       "    </tr>\n",
       "    <tr>\n",
       "      <th>aYV4_aVwexS-Zn34k_P0VQ</th>\n",
       "      <td>60</td>\n",
       "      <td>60.0</td>\n",
       "    </tr>\n",
       "    <tr>\n",
       "      <th>caUyy1kvh-MxntoKoJr6kg</th>\n",
       "      <td>56</td>\n",
       "      <td>56.0</td>\n",
       "    </tr>\n",
       "    <tr>\n",
       "      <th>nkhu7NjlIEimaJ-QD8S3SA</th>\n",
       "      <td>64</td>\n",
       "      <td>64.0</td>\n",
       "    </tr>\n",
       "    <tr>\n",
       "      <th>trGQ2nySSedAbXaaHhcmUQ</th>\n",
       "      <td>66</td>\n",
       "      <td>66.0</td>\n",
       "    </tr>\n",
       "    <tr>\n",
       "      <th>uQ2w3yMEYxcspPrZLKObVw</th>\n",
       "      <td>80</td>\n",
       "      <td>80.0</td>\n",
       "    </tr>\n",
       "    <tr>\n",
       "      <th>xBxmaLiSLXN68Gqj_zdjkQ</th>\n",
       "      <td>54</td>\n",
       "      <td>54.0</td>\n",
       "    </tr>\n",
       "  </tbody>\n",
       "</table>\n",
       "</div>"
      ],
      "text/plain": [
       "                        total_qty  starts_5_qty\n",
       "2-PD6df20ge-k9SPHmcxiw         54          54.0\n",
       "2bC-dBYN48wrmN-j0Bv-Jw         59          59.0\n",
       "8JwSmvviX2dEAgaPRZ70nQ        195         195.0\n",
       "MTl8QNjnenumWaORnXhing         55          55.0\n",
       "aGwONlR86ERk450Gp6Ih5A         55          55.0\n",
       "aYV4_aVwexS-Zn34k_P0VQ         60          60.0\n",
       "caUyy1kvh-MxntoKoJr6kg         56          56.0\n",
       "nkhu7NjlIEimaJ-QD8S3SA         64          64.0\n",
       "trGQ2nySSedAbXaaHhcmUQ         66          66.0\n",
       "uQ2w3yMEYxcspPrZLKObVw         80          80.0\n",
       "xBxmaLiSLXN68Gqj_zdjkQ         54          54.0"
      ]
     },
     "execution_count": 19,
     "metadata": {},
     "output_type": "execute_result"
    }
   ],
   "source": [
    "reviews_qty_5_stars = reviews[(reviews['stars'] == 5)].groupby(['user_id']).size()\n",
    "reviews_qty_joined =  pd.concat([reviews_qty, reviews_qty_5_stars], axis=1, keys=['total_qty', 'starts_5_qty'])\n",
    "display(reviews_qty_joined.head(2))\n",
    "users_5_stars = reviews_qty_joined.query('(total_qty >= 50) & (total_qty == starts_5_qty)')\n",
    "users_5_stars"
   ]
  },
  {
   "cell_type": "code",
   "execution_count": 21,
   "metadata": {},
   "outputs": [],
   "source": [
    "import hashlib\n",
    "reviews_with_comments = reviews\n",
    "reviews_with_comments['text_hash'] = reviews_with_comments.text.map(lambda x:hashlib.sha1(x.encode('utf8')).hexdigest())"
   ]
  },
  {
   "cell_type": "code",
   "execution_count": 22,
   "metadata": {},
   "outputs": [
    {
     "data": {
      "text/html": [
       "<div>\n",
       "<style scoped>\n",
       "    .dataframe tbody tr th:only-of-type {\n",
       "        vertical-align: middle;\n",
       "    }\n",
       "\n",
       "    .dataframe tbody tr th {\n",
       "        vertical-align: top;\n",
       "    }\n",
       "\n",
       "    .dataframe thead th {\n",
       "        text-align: right;\n",
       "    }\n",
       "</style>\n",
       "<table border=\"1\" class=\"dataframe\">\n",
       "  <thead>\n",
       "    <tr style=\"text-align: right;\">\n",
       "      <th></th>\n",
       "      <th>user_id</th>\n",
       "      <th>text_hash</th>\n",
       "      <th>same_texts_qty</th>\n",
       "    </tr>\n",
       "  </thead>\n",
       "  <tbody>\n",
       "    <tr>\n",
       "      <th>0</th>\n",
       "      <td>---1lKK3aKOuomHnwAkAow</td>\n",
       "      <td>0165bb3a5fa465446d047026cb368b2f589fb34b</td>\n",
       "      <td>1</td>\n",
       "    </tr>\n",
       "    <tr>\n",
       "      <th>1</th>\n",
       "      <td>---1lKK3aKOuomHnwAkAow</td>\n",
       "      <td>0546415a78a54b8785d38a7eb083753246b51224</td>\n",
       "      <td>1</td>\n",
       "    </tr>\n",
       "  </tbody>\n",
       "</table>\n",
       "</div>"
      ],
      "text/plain": [
       "                  user_id                                 text_hash  \\\n",
       "0  ---1lKK3aKOuomHnwAkAow  0165bb3a5fa465446d047026cb368b2f589fb34b   \n",
       "1  ---1lKK3aKOuomHnwAkAow  0546415a78a54b8785d38a7eb083753246b51224   \n",
       "\n",
       "   same_texts_qty  \n",
       "0               1  \n",
       "1               1  "
      ]
     },
     "metadata": {},
     "output_type": "display_data"
    }
   ],
   "source": [
    "reviews_by_user_text = reviews_with_comments.groupby(['user_id', 'text_hash']).size().reset_index(name='same_texts_qty')\n",
    "display(reviews_by_user_text.head(2))"
   ]
  },
  {
   "cell_type": "code",
   "execution_count": 23,
   "metadata": {},
   "outputs": [
    {
     "data": {
      "text/html": [
       "<div>\n",
       "<style scoped>\n",
       "    .dataframe tbody tr th:only-of-type {\n",
       "        vertical-align: middle;\n",
       "    }\n",
       "\n",
       "    .dataframe tbody tr th {\n",
       "        vertical-align: top;\n",
       "    }\n",
       "\n",
       "    .dataframe thead th {\n",
       "        text-align: right;\n",
       "    }\n",
       "</style>\n",
       "<table border=\"1\" class=\"dataframe\">\n",
       "  <thead>\n",
       "    <tr style=\"text-align: right;\">\n",
       "      <th></th>\n",
       "      <th>total_qty</th>\n",
       "      <th>text_hash</th>\n",
       "      <th>same_texts_qty</th>\n",
       "    </tr>\n",
       "    <tr>\n",
       "      <th>user_id</th>\n",
       "      <th></th>\n",
       "      <th></th>\n",
       "      <th></th>\n",
       "    </tr>\n",
       "  </thead>\n",
       "  <tbody>\n",
       "    <tr>\n",
       "      <th>9II6XRbZAf2koLK1lCjz6A</th>\n",
       "      <td>11</td>\n",
       "      <td>971fa13e286683f4b300cc725b870d1b7c64121b</td>\n",
       "      <td>11</td>\n",
       "    </tr>\n",
       "    <tr>\n",
       "      <th>ImyvYbCzWhoYnbJzEvGGgw</th>\n",
       "      <td>6</td>\n",
       "      <td>1fdcf5f12420fef03a93c9bf1b3fdb0423e1c847</td>\n",
       "      <td>6</td>\n",
       "    </tr>\n",
       "    <tr>\n",
       "      <th>TV5s5qQKgMGoECfDLGdTmQ</th>\n",
       "      <td>5</td>\n",
       "      <td>1f808a2dac075af57c54b92f462fe587dfbaa9d3</td>\n",
       "      <td>5</td>\n",
       "    </tr>\n",
       "    <tr>\n",
       "      <th>k8Hw_ua1KjCPGVkhGOk7ew</th>\n",
       "      <td>6</td>\n",
       "      <td>b832916b96512c121321a55b4da456d3cf1ed532</td>\n",
       "      <td>6</td>\n",
       "    </tr>\n",
       "  </tbody>\n",
       "</table>\n",
       "</div>"
      ],
      "text/plain": [
       "                        total_qty                                 text_hash  \\\n",
       "user_id                                                                       \n",
       "9II6XRbZAf2koLK1lCjz6A         11  971fa13e286683f4b300cc725b870d1b7c64121b   \n",
       "ImyvYbCzWhoYnbJzEvGGgw          6  1fdcf5f12420fef03a93c9bf1b3fdb0423e1c847   \n",
       "TV5s5qQKgMGoECfDLGdTmQ          5  1f808a2dac075af57c54b92f462fe587dfbaa9d3   \n",
       "k8Hw_ua1KjCPGVkhGOk7ew          6  b832916b96512c121321a55b4da456d3cf1ed532   \n",
       "\n",
       "                        same_texts_qty  \n",
       "user_id                                 \n",
       "9II6XRbZAf2koLK1lCjz6A              11  \n",
       "ImyvYbCzWhoYnbJzEvGGgw               6  \n",
       "TV5s5qQKgMGoECfDLGdTmQ               5  \n",
       "k8Hw_ua1KjCPGVkhGOk7ew               6  "
      ]
     },
     "execution_count": 23,
     "metadata": {},
     "output_type": "execute_result"
    }
   ],
   "source": [
    "reviews_qty_texts_joined = reviews_qty.reset_index(name='total_qty').set_index('user_id').join(reviews_by_user_text.set_index('user_id'))\n",
    "users_same_texts_always = reviews_qty_texts_joined.query('(total_qty >= 5) & (total_qty == same_texts_qty)')\n",
    "users_same_texts_always\n"
   ]
  },
  {
   "cell_type": "code",
   "execution_count": 31,
   "metadata": {},
   "outputs": [
    {
     "data": {
      "text/html": [
       "<div>\n",
       "<style scoped>\n",
       "    .dataframe tbody tr th:only-of-type {\n",
       "        vertical-align: middle;\n",
       "    }\n",
       "\n",
       "    .dataframe tbody tr th {\n",
       "        vertical-align: top;\n",
       "    }\n",
       "\n",
       "    .dataframe thead th {\n",
       "        text-align: right;\n",
       "    }\n",
       "</style>\n",
       "<table border=\"1\" class=\"dataframe\">\n",
       "  <thead>\n",
       "    <tr style=\"text-align: right;\">\n",
       "      <th></th>\n",
       "      <th>user_id</th>\n",
       "      <th>total_reviews</th>\n",
       "    </tr>\n",
       "  </thead>\n",
       "  <tbody>\n",
       "    <tr>\n",
       "      <th>0</th>\n",
       "      <td>UgMW8bLE0QMJDCkQ1Ax5Mg</td>\n",
       "      <td>246</td>\n",
       "    </tr>\n",
       "    <tr>\n",
       "      <th>1</th>\n",
       "      <td>jOERvhmK6_lo_XGUBPws_w</td>\n",
       "      <td>105</td>\n",
       "    </tr>\n",
       "    <tr>\n",
       "      <th>2</th>\n",
       "      <td>A0j21z2Q1HGic7jW6e9h7A</td>\n",
       "      <td>813</td>\n",
       "    </tr>\n",
       "    <tr>\n",
       "      <th>3</th>\n",
       "      <td>TZQSUDDcA4ek5gBd6BzcjA</td>\n",
       "      <td>145</td>\n",
       "    </tr>\n",
       "    <tr>\n",
       "      <th>4</th>\n",
       "      <td>UreiTV1I9i-XF6_bJhK6Iw</td>\n",
       "      <td>59</td>\n",
       "    </tr>\n",
       "  </tbody>\n",
       "</table>\n",
       "</div>"
      ],
      "text/plain": [
       "                  user_id  total_reviews\n",
       "0  UgMW8bLE0QMJDCkQ1Ax5Mg            246\n",
       "1  jOERvhmK6_lo_XGUBPws_w            105\n",
       "2  A0j21z2Q1HGic7jW6e9h7A            813\n",
       "3  TZQSUDDcA4ek5gBd6BzcjA            145\n",
       "4  UreiTV1I9i-XF6_bJhK6Iw             59"
      ]
     },
     "execution_count": 31,
     "metadata": {},
     "output_type": "execute_result"
    }
   ],
   "source": [
    "own_user_id_50 = pd.read_csv(\"csvs/users_fifty_reviews.csv\")\n",
    "own_user_id_50.head()"
   ]
  },
  {
   "cell_type": "code",
   "execution_count": 26,
   "metadata": {},
   "outputs": [],
   "source": [
    "reviews_qty = reviews.groupby(['user_id']).size()\n",
    "reviews_qty_gt_50 = reviews_qty[reviews_qty >= 50]"
   ]
  },
  {
   "cell_type": "code",
   "execution_count": 29,
   "metadata": {},
   "outputs": [
    {
     "data": {
      "text/plain": [
       "15955"
      ]
     },
     "execution_count": 29,
     "metadata": {},
     "output_type": "execute_result"
    }
   ],
   "source": [
    "len(reviews_qty_gt_50)"
   ]
  },
  {
   "cell_type": "code",
   "execution_count": 32,
   "metadata": {},
   "outputs": [
    {
     "data": {
      "text/plain": [
       "15955"
      ]
     },
     "execution_count": 32,
     "metadata": {},
     "output_type": "execute_result"
    }
   ],
   "source": [
    "len(own_user_id_50)"
   ]
  },
  {
   "cell_type": "code",
   "execution_count": 35,
   "metadata": {},
   "outputs": [
    {
     "data": {
      "text/html": [
       "<div>\n",
       "<style scoped>\n",
       "    .dataframe tbody tr th:only-of-type {\n",
       "        vertical-align: middle;\n",
       "    }\n",
       "\n",
       "    .dataframe tbody tr th {\n",
       "        vertical-align: top;\n",
       "    }\n",
       "\n",
       "    .dataframe thead th {\n",
       "        text-align: right;\n",
       "    }\n",
       "</style>\n",
       "<table border=\"1\" class=\"dataframe\">\n",
       "  <thead>\n",
       "    <tr style=\"text-align: right;\">\n",
       "      <th></th>\n",
       "      <th>user_id</th>\n",
       "      <th>five_stars_reviews</th>\n",
       "    </tr>\n",
       "  </thead>\n",
       "  <tbody>\n",
       "    <tr>\n",
       "      <th>0</th>\n",
       "      <td>V34qejxNsCbcgD8C0HVk-Q</td>\n",
       "      <td>8</td>\n",
       "    </tr>\n",
       "    <tr>\n",
       "      <th>1</th>\n",
       "      <td>5vD2kmE25YBrbayKhykNxQ</td>\n",
       "      <td>5</td>\n",
       "    </tr>\n",
       "    <tr>\n",
       "      <th>2</th>\n",
       "      <td>aq_ZxGHiri48TUXJlpRkCQ</td>\n",
       "      <td>35</td>\n",
       "    </tr>\n",
       "    <tr>\n",
       "      <th>3</th>\n",
       "      <td>dsd-KNYKMpx6ma_sRWCSkQ</td>\n",
       "      <td>1</td>\n",
       "    </tr>\n",
       "    <tr>\n",
       "      <th>4</th>\n",
       "      <td>P6apihD4ASf1vpPxHODxAQ</td>\n",
       "      <td>1</td>\n",
       "    </tr>\n",
       "  </tbody>\n",
       "</table>\n",
       "</div>"
      ],
      "text/plain": [
       "                  user_id  five_stars_reviews\n",
       "0  V34qejxNsCbcgD8C0HVk-Q                   8\n",
       "1  5vD2kmE25YBrbayKhykNxQ                   5\n",
       "2  aq_ZxGHiri48TUXJlpRkCQ                  35\n",
       "3  dsd-KNYKMpx6ma_sRWCSkQ                   1\n",
       "4  P6apihD4ASf1vpPxHODxAQ                   1"
      ]
     },
     "execution_count": 35,
     "metadata": {},
     "output_type": "execute_result"
    }
   ],
   "source": [
    "own_five_stars = pd.read_csv(\"csvs/reviews_five_starts.csv\")\n",
    "own_five_stars.head()"
   ]
  },
  {
   "cell_type": "code",
   "execution_count": 37,
   "metadata": {},
   "outputs": [],
   "source": [
    "reviews_five_stars = reviews[(reviews['stars'] == 5)].groupby(['user_id']).size().reset_index()"
   ]
  },
  {
   "cell_type": "code",
   "execution_count": 38,
   "metadata": {},
   "outputs": [
    {
     "data": {
      "text/plain": [
       "1296614"
      ]
     },
     "execution_count": 38,
     "metadata": {},
     "output_type": "execute_result"
    }
   ],
   "source": [
    "len(reviews_five_stars)"
   ]
  },
  {
   "cell_type": "code",
   "execution_count": 39,
   "metadata": {},
   "outputs": [
    {
     "data": {
      "text/plain": [
       "1296614"
      ]
     },
     "execution_count": 39,
     "metadata": {},
     "output_type": "execute_result"
    }
   ],
   "source": [
    "len(own_five_stars)"
   ]
  },
  {
   "cell_type": "code",
   "execution_count": 40,
   "metadata": {},
   "outputs": [
    {
     "data": {
      "text/html": [
       "<div>\n",
       "<style scoped>\n",
       "    .dataframe tbody tr th:only-of-type {\n",
       "        vertical-align: middle;\n",
       "    }\n",
       "\n",
       "    .dataframe tbody tr th {\n",
       "        vertical-align: top;\n",
       "    }\n",
       "\n",
       "    .dataframe thead th {\n",
       "        text-align: right;\n",
       "    }\n",
       "</style>\n",
       "<table border=\"1\" class=\"dataframe\">\n",
       "  <thead>\n",
       "    <tr style=\"text-align: right;\">\n",
       "      <th></th>\n",
       "      <th>user_id</th>\n",
       "      <th>five_stars_reviews</th>\n",
       "      <th>total_reviews</th>\n",
       "    </tr>\n",
       "  </thead>\n",
       "  <tbody>\n",
       "    <tr>\n",
       "      <th>0</th>\n",
       "      <td>HLaSqQMDVvlcFPGJL_kGCA</td>\n",
       "      <td>21</td>\n",
       "      <td>125</td>\n",
       "    </tr>\n",
       "    <tr>\n",
       "      <th>1</th>\n",
       "      <td>U4INQZOPSUaj8hMjLlZ3KA</td>\n",
       "      <td>666</td>\n",
       "      <td>1762</td>\n",
       "    </tr>\n",
       "    <tr>\n",
       "      <th>2</th>\n",
       "      <td>aLqp_fe64ugZFuwMpsXLiw</td>\n",
       "      <td>39</td>\n",
       "      <td>104</td>\n",
       "    </tr>\n",
       "    <tr>\n",
       "      <th>3</th>\n",
       "      <td>xFSLb_pxXta5G4oaRB1ylQ</td>\n",
       "      <td>42</td>\n",
       "      <td>97</td>\n",
       "    </tr>\n",
       "    <tr>\n",
       "      <th>4</th>\n",
       "      <td>LmPxZshPCXBd4mrERDU8RA</td>\n",
       "      <td>30</td>\n",
       "      <td>98</td>\n",
       "    </tr>\n",
       "  </tbody>\n",
       "</table>\n",
       "</div>"
      ],
      "text/plain": [
       "                  user_id  five_stars_reviews  total_reviews\n",
       "0  HLaSqQMDVvlcFPGJL_kGCA                  21            125\n",
       "1  U4INQZOPSUaj8hMjLlZ3KA                 666           1762\n",
       "2  aLqp_fe64ugZFuwMpsXLiw                  39            104\n",
       "3  xFSLb_pxXta5G4oaRB1ylQ                  42             97\n",
       "4  LmPxZshPCXBd4mrERDU8RA                  30             98"
      ]
     },
     "execution_count": 40,
     "metadata": {},
     "output_type": "execute_result"
    }
   ],
   "source": [
    "merge = pd.merge(own_five_stars, own_user_id_50, on=\"user_id\")\n",
    "merge.head()"
   ]
  },
  {
   "cell_type": "code",
   "execution_count": 42,
   "metadata": {},
   "outputs": [
    {
     "data": {
      "text/html": [
       "<div>\n",
       "<style scoped>\n",
       "    .dataframe tbody tr th:only-of-type {\n",
       "        vertical-align: middle;\n",
       "    }\n",
       "\n",
       "    .dataframe tbody tr th {\n",
       "        vertical-align: top;\n",
       "    }\n",
       "\n",
       "    .dataframe thead th {\n",
       "        text-align: right;\n",
       "    }\n",
       "</style>\n",
       "<table border=\"1\" class=\"dataframe\">\n",
       "  <thead>\n",
       "    <tr style=\"text-align: right;\">\n",
       "      <th></th>\n",
       "      <th>user_id</th>\n",
       "      <th>five_stars_reviews</th>\n",
       "      <th>total_reviews</th>\n",
       "    </tr>\n",
       "  </thead>\n",
       "  <tbody>\n",
       "    <tr>\n",
       "      <th>550</th>\n",
       "      <td>xBxmaLiSLXN68Gqj_zdjkQ</td>\n",
       "      <td>54</td>\n",
       "      <td>54</td>\n",
       "    </tr>\n",
       "    <tr>\n",
       "      <th>1270</th>\n",
       "      <td>8JwSmvviX2dEAgaPRZ70nQ</td>\n",
       "      <td>195</td>\n",
       "      <td>195</td>\n",
       "    </tr>\n",
       "    <tr>\n",
       "      <th>2489</th>\n",
       "      <td>aYV4_aVwexS-Zn34k_P0VQ</td>\n",
       "      <td>60</td>\n",
       "      <td>60</td>\n",
       "    </tr>\n",
       "    <tr>\n",
       "      <th>2858</th>\n",
       "      <td>trGQ2nySSedAbXaaHhcmUQ</td>\n",
       "      <td>66</td>\n",
       "      <td>66</td>\n",
       "    </tr>\n",
       "    <tr>\n",
       "      <th>3446</th>\n",
       "      <td>caUyy1kvh-MxntoKoJr6kg</td>\n",
       "      <td>56</td>\n",
       "      <td>56</td>\n",
       "    </tr>\n",
       "    <tr>\n",
       "      <th>3840</th>\n",
       "      <td>2bC-dBYN48wrmN-j0Bv-Jw</td>\n",
       "      <td>59</td>\n",
       "      <td>59</td>\n",
       "    </tr>\n",
       "    <tr>\n",
       "      <th>4795</th>\n",
       "      <td>MTl8QNjnenumWaORnXhing</td>\n",
       "      <td>55</td>\n",
       "      <td>55</td>\n",
       "    </tr>\n",
       "    <tr>\n",
       "      <th>6231</th>\n",
       "      <td>nkhu7NjlIEimaJ-QD8S3SA</td>\n",
       "      <td>64</td>\n",
       "      <td>64</td>\n",
       "    </tr>\n",
       "    <tr>\n",
       "      <th>6965</th>\n",
       "      <td>aGwONlR86ERk450Gp6Ih5A</td>\n",
       "      <td>55</td>\n",
       "      <td>55</td>\n",
       "    </tr>\n",
       "    <tr>\n",
       "      <th>9874</th>\n",
       "      <td>uQ2w3yMEYxcspPrZLKObVw</td>\n",
       "      <td>80</td>\n",
       "      <td>80</td>\n",
       "    </tr>\n",
       "    <tr>\n",
       "      <th>11424</th>\n",
       "      <td>2-PD6df20ge-k9SPHmcxiw</td>\n",
       "      <td>54</td>\n",
       "      <td>54</td>\n",
       "    </tr>\n",
       "  </tbody>\n",
       "</table>\n",
       "</div>"
      ],
      "text/plain": [
       "                      user_id  five_stars_reviews  total_reviews\n",
       "550    xBxmaLiSLXN68Gqj_zdjkQ                  54             54\n",
       "1270   8JwSmvviX2dEAgaPRZ70nQ                 195            195\n",
       "2489   aYV4_aVwexS-Zn34k_P0VQ                  60             60\n",
       "2858   trGQ2nySSedAbXaaHhcmUQ                  66             66\n",
       "3446   caUyy1kvh-MxntoKoJr6kg                  56             56\n",
       "3840   2bC-dBYN48wrmN-j0Bv-Jw                  59             59\n",
       "4795   MTl8QNjnenumWaORnXhing                  55             55\n",
       "6231   nkhu7NjlIEimaJ-QD8S3SA                  64             64\n",
       "6965   aGwONlR86ERk450Gp6Ih5A                  55             55\n",
       "9874   uQ2w3yMEYxcspPrZLKObVw                  80             80\n",
       "11424  2-PD6df20ge-k9SPHmcxiw                  54             54"
      ]
     },
     "execution_count": 42,
     "metadata": {},
     "output_type": "execute_result"
    }
   ],
   "source": [
    "merge[merge[\"five_stars_reviews\"] == merge[\"total_reviews\"]]"
   ]
  },
  {
   "cell_type": "code",
   "execution_count": null,
   "metadata": {},
   "outputs": [],
   "source": []
  }
 ],
 "metadata": {
  "kernelspec": {
   "display_name": "Python 3",
   "language": "python",
   "name": "python3"
  },
  "language_info": {
   "codemirror_mode": {
    "name": "ipython",
    "version": 3
   },
   "file_extension": ".py",
   "mimetype": "text/x-python",
   "name": "python",
   "nbconvert_exporter": "python",
   "pygments_lexer": "ipython3",
   "version": "3.6.9"
  }
 },
 "nbformat": 4,
 "nbformat_minor": 2
}
